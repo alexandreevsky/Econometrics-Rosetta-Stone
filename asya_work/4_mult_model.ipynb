{
 "cells": [
  {
   "cell_type": "code",
   "execution_count": 17,
   "metadata": {},
   "outputs": [],
   "source": [
    "import numpy as np\n",
    "import pandas as pd\n",
    "import statsmodels.api as st\n",
    "import matplotlib.pyplot as plt\n",
    "\n",
    "plt.style.use('ggplot')"
   ]
  },
  {
   "cell_type": "code",
   "execution_count": 18,
   "metadata": {},
   "outputs": [],
   "source": [
    "df = pd.read_stata('data/pension.dta')"
   ]
  },
  {
   "cell_type": "code",
   "execution_count": 19,
   "metadata": {},
   "outputs": [
    {
     "data": {
      "text/html": [
       "<div>\n",
       "<style scoped>\n",
       "    .dataframe tbody tr th:only-of-type {\n",
       "        vertical-align: middle;\n",
       "    }\n",
       "\n",
       "    .dataframe tbody tr th {\n",
       "        vertical-align: top;\n",
       "    }\n",
       "\n",
       "    .dataframe thead th {\n",
       "        text-align: right;\n",
       "    }\n",
       "</style>\n",
       "<table border=\"1\" class=\"dataframe\">\n",
       "  <thead>\n",
       "    <tr style=\"text-align: right;\">\n",
       "      <th></th>\n",
       "      <th>id</th>\n",
       "      <th>pyears</th>\n",
       "      <th>prftshr</th>\n",
       "      <th>choice</th>\n",
       "      <th>female</th>\n",
       "      <th>married</th>\n",
       "      <th>age</th>\n",
       "      <th>educ</th>\n",
       "      <th>finc25</th>\n",
       "      <th>finc35</th>\n",
       "      <th>finc50</th>\n",
       "      <th>finc75</th>\n",
       "      <th>finc100</th>\n",
       "      <th>finc101</th>\n",
       "      <th>wealth89</th>\n",
       "      <th>black</th>\n",
       "      <th>stckin89</th>\n",
       "      <th>irain89</th>\n",
       "      <th>pctstck</th>\n",
       "    </tr>\n",
       "  </thead>\n",
       "  <tbody>\n",
       "    <tr>\n",
       "      <th>count</th>\n",
       "      <td>226.000000</td>\n",
       "      <td>218.000000</td>\n",
       "      <td>206.000000</td>\n",
       "      <td>226.000000</td>\n",
       "      <td>226.00000</td>\n",
       "      <td>226.000000</td>\n",
       "      <td>226.000000</td>\n",
       "      <td>219.000000</td>\n",
       "      <td>216.000000</td>\n",
       "      <td>216.000000</td>\n",
       "      <td>216.000000</td>\n",
       "      <td>216.000000</td>\n",
       "      <td>216.00000</td>\n",
       "      <td>216.000000</td>\n",
       "      <td>226.000000</td>\n",
       "      <td>226.000000</td>\n",
       "      <td>226.000000</td>\n",
       "      <td>226.00000</td>\n",
       "      <td>226.000000</td>\n",
       "    </tr>\n",
       "    <tr>\n",
       "      <th>mean</th>\n",
       "      <td>2445.092920</td>\n",
       "      <td>11.385321</td>\n",
       "      <td>0.208738</td>\n",
       "      <td>0.615044</td>\n",
       "      <td>0.60177</td>\n",
       "      <td>0.734513</td>\n",
       "      <td>60.703540</td>\n",
       "      <td>13.515982</td>\n",
       "      <td>0.208333</td>\n",
       "      <td>0.185185</td>\n",
       "      <td>0.245370</td>\n",
       "      <td>0.125000</td>\n",
       "      <td>0.12037</td>\n",
       "      <td>0.064815</td>\n",
       "      <td>197.905624</td>\n",
       "      <td>0.119469</td>\n",
       "      <td>0.318584</td>\n",
       "      <td>0.50000</td>\n",
       "      <td>46.681416</td>\n",
       "    </tr>\n",
       "    <tr>\n",
       "      <th>std</th>\n",
       "      <td>1371.270511</td>\n",
       "      <td>9.605498</td>\n",
       "      <td>0.407397</td>\n",
       "      <td>0.487665</td>\n",
       "      <td>0.49062</td>\n",
       "      <td>0.442572</td>\n",
       "      <td>4.287002</td>\n",
       "      <td>2.554627</td>\n",
       "      <td>0.407060</td>\n",
       "      <td>0.389350</td>\n",
       "      <td>0.431306</td>\n",
       "      <td>0.331487</td>\n",
       "      <td>0.32615</td>\n",
       "      <td>0.246771</td>\n",
       "      <td>242.091949</td>\n",
       "      <td>0.325060</td>\n",
       "      <td>0.466962</td>\n",
       "      <td>0.50111</td>\n",
       "      <td>39.441155</td>\n",
       "    </tr>\n",
       "    <tr>\n",
       "      <th>min</th>\n",
       "      <td>38.000000</td>\n",
       "      <td>0.000000</td>\n",
       "      <td>0.000000</td>\n",
       "      <td>0.000000</td>\n",
       "      <td>0.00000</td>\n",
       "      <td>0.000000</td>\n",
       "      <td>53.000000</td>\n",
       "      <td>8.000000</td>\n",
       "      <td>0.000000</td>\n",
       "      <td>0.000000</td>\n",
       "      <td>0.000000</td>\n",
       "      <td>0.000000</td>\n",
       "      <td>0.00000</td>\n",
       "      <td>0.000000</td>\n",
       "      <td>-579.997009</td>\n",
       "      <td>0.000000</td>\n",
       "      <td>0.000000</td>\n",
       "      <td>0.00000</td>\n",
       "      <td>0.000000</td>\n",
       "    </tr>\n",
       "    <tr>\n",
       "      <th>25%</th>\n",
       "      <td>1312.500000</td>\n",
       "      <td>4.000000</td>\n",
       "      <td>0.000000</td>\n",
       "      <td>0.000000</td>\n",
       "      <td>0.00000</td>\n",
       "      <td>0.000000</td>\n",
       "      <td>57.000000</td>\n",
       "      <td>12.000000</td>\n",
       "      <td>0.000000</td>\n",
       "      <td>0.000000</td>\n",
       "      <td>0.000000</td>\n",
       "      <td>0.000000</td>\n",
       "      <td>0.00000</td>\n",
       "      <td>0.000000</td>\n",
       "      <td>52.000000</td>\n",
       "      <td>0.000000</td>\n",
       "      <td>0.000000</td>\n",
       "      <td>0.00000</td>\n",
       "      <td>0.000000</td>\n",
       "    </tr>\n",
       "    <tr>\n",
       "      <th>50%</th>\n",
       "      <td>2377.500000</td>\n",
       "      <td>9.000000</td>\n",
       "      <td>0.000000</td>\n",
       "      <td>1.000000</td>\n",
       "      <td>1.00000</td>\n",
       "      <td>1.000000</td>\n",
       "      <td>60.000000</td>\n",
       "      <td>12.000000</td>\n",
       "      <td>0.000000</td>\n",
       "      <td>0.000000</td>\n",
       "      <td>0.000000</td>\n",
       "      <td>0.000000</td>\n",
       "      <td>0.00000</td>\n",
       "      <td>0.000000</td>\n",
       "      <td>127.849998</td>\n",
       "      <td>0.000000</td>\n",
       "      <td>0.000000</td>\n",
       "      <td>0.50000</td>\n",
       "      <td>50.000000</td>\n",
       "    </tr>\n",
       "    <tr>\n",
       "      <th>75%</th>\n",
       "      <td>3804.250000</td>\n",
       "      <td>16.000000</td>\n",
       "      <td>0.000000</td>\n",
       "      <td>1.000000</td>\n",
       "      <td>1.00000</td>\n",
       "      <td>1.000000</td>\n",
       "      <td>64.000000</td>\n",
       "      <td>16.000000</td>\n",
       "      <td>0.000000</td>\n",
       "      <td>0.000000</td>\n",
       "      <td>0.000000</td>\n",
       "      <td>0.000000</td>\n",
       "      <td>0.00000</td>\n",
       "      <td>0.000000</td>\n",
       "      <td>247.500000</td>\n",
       "      <td>0.000000</td>\n",
       "      <td>1.000000</td>\n",
       "      <td>1.00000</td>\n",
       "      <td>100.000000</td>\n",
       "    </tr>\n",
       "    <tr>\n",
       "      <th>max</th>\n",
       "      <td>5014.000000</td>\n",
       "      <td>45.000000</td>\n",
       "      <td>1.000000</td>\n",
       "      <td>1.000000</td>\n",
       "      <td>1.00000</td>\n",
       "      <td>1.000000</td>\n",
       "      <td>73.000000</td>\n",
       "      <td>18.000000</td>\n",
       "      <td>1.000000</td>\n",
       "      <td>1.000000</td>\n",
       "      <td>1.000000</td>\n",
       "      <td>1.000000</td>\n",
       "      <td>1.00000</td>\n",
       "      <td>1.000000</td>\n",
       "      <td>1484.996948</td>\n",
       "      <td>1.000000</td>\n",
       "      <td>1.000000</td>\n",
       "      <td>1.00000</td>\n",
       "      <td>100.000000</td>\n",
       "    </tr>\n",
       "  </tbody>\n",
       "</table>\n",
       "</div>"
      ],
      "text/plain": [
       "                id      pyears     prftshr      choice     female     married  \\\n",
       "count   226.000000  218.000000  206.000000  226.000000  226.00000  226.000000   \n",
       "mean   2445.092920   11.385321    0.208738    0.615044    0.60177    0.734513   \n",
       "std    1371.270511    9.605498    0.407397    0.487665    0.49062    0.442572   \n",
       "min      38.000000    0.000000    0.000000    0.000000    0.00000    0.000000   \n",
       "25%    1312.500000    4.000000    0.000000    0.000000    0.00000    0.000000   \n",
       "50%    2377.500000    9.000000    0.000000    1.000000    1.00000    1.000000   \n",
       "75%    3804.250000   16.000000    0.000000    1.000000    1.00000    1.000000   \n",
       "max    5014.000000   45.000000    1.000000    1.000000    1.00000    1.000000   \n",
       "\n",
       "              age        educ      finc25      finc35      finc50      finc75  \\\n",
       "count  226.000000  219.000000  216.000000  216.000000  216.000000  216.000000   \n",
       "mean    60.703540   13.515982    0.208333    0.185185    0.245370    0.125000   \n",
       "std      4.287002    2.554627    0.407060    0.389350    0.431306    0.331487   \n",
       "min     53.000000    8.000000    0.000000    0.000000    0.000000    0.000000   \n",
       "25%     57.000000   12.000000    0.000000    0.000000    0.000000    0.000000   \n",
       "50%     60.000000   12.000000    0.000000    0.000000    0.000000    0.000000   \n",
       "75%     64.000000   16.000000    0.000000    0.000000    0.000000    0.000000   \n",
       "max     73.000000   18.000000    1.000000    1.000000    1.000000    1.000000   \n",
       "\n",
       "         finc100     finc101     wealth89       black    stckin89    irain89  \\\n",
       "count  216.00000  216.000000   226.000000  226.000000  226.000000  226.00000   \n",
       "mean     0.12037    0.064815   197.905624    0.119469    0.318584    0.50000   \n",
       "std      0.32615    0.246771   242.091949    0.325060    0.466962    0.50111   \n",
       "min      0.00000    0.000000  -579.997009    0.000000    0.000000    0.00000   \n",
       "25%      0.00000    0.000000    52.000000    0.000000    0.000000    0.00000   \n",
       "50%      0.00000    0.000000   127.849998    0.000000    0.000000    0.50000   \n",
       "75%      0.00000    0.000000   247.500000    0.000000    1.000000    1.00000   \n",
       "max      1.00000    1.000000  1484.996948    1.000000    1.000000    1.00000   \n",
       "\n",
       "          pctstck  \n",
       "count  226.000000  \n",
       "mean    46.681416  \n",
       "std     39.441155  \n",
       "min      0.000000  \n",
       "25%      0.000000  \n",
       "50%     50.000000  \n",
       "75%    100.000000  \n",
       "max    100.000000  "
      ]
     },
     "execution_count": 19,
     "metadata": {},
     "output_type": "execute_result"
    }
   ],
   "source": [
    "df.describe()"
   ]
  },
  {
   "cell_type": "code",
   "execution_count": 20,
   "metadata": {},
   "outputs": [],
   "source": [
    "df.rename(columns = {'pctstck':'y'}, inplace = True)"
   ]
  },
  {
   "cell_type": "code",
   "execution_count": 21,
   "metadata": {},
   "outputs": [
    {
     "name": "stderr",
     "output_type": "stream",
     "text": [
      "C:\\Users\\DNS\\Anaconda3\\lib\\site-packages\\numpy\\core\\fromnumeric.py:2389: FutureWarning: Method .ptp is deprecated and will be removed in a future version. Use numpy.ptp instead.\n",
      "  return ptp(axis=axis, out=out, **kwargs)\n"
     ]
    }
   ],
   "source": [
    "df1 = st.add_constant(df, prepend = False)"
   ]
  },
  {
   "cell_type": "code",
   "execution_count": 115,
   "metadata": {},
   "outputs": [
    {
     "name": "stderr",
     "output_type": "stream",
     "text": [
      "C:\\Users\\DNS\\Anaconda3\\lib\\site-packages\\numpy\\core\\fromnumeric.py:2389: FutureWarning: Method .ptp is deprecated and will be removed in a future version. Use numpy.ptp instead.\n",
      "  return ptp(axis=axis, out=out, **kwargs)\n"
     ]
    }
   ],
   "source": [
    "sub = df1[['y', 'choice', 'age', 'wealth89', 'prftshr', 'married']].dropna()\n",
    "y = sub['y']\n",
    "X = sub[['choice', 'age', 'wealth89', 'prftshr']]\n",
    "X = st.add_constant(X, prepend = False)"
   ]
  },
  {
   "cell_type": "code",
   "execution_count": 23,
   "metadata": {},
   "outputs": [
    {
     "data": {
      "text/html": [
       "<div>\n",
       "<style scoped>\n",
       "    .dataframe tbody tr th:only-of-type {\n",
       "        vertical-align: middle;\n",
       "    }\n",
       "\n",
       "    .dataframe tbody tr th {\n",
       "        vertical-align: top;\n",
       "    }\n",
       "\n",
       "    .dataframe thead th {\n",
       "        text-align: right;\n",
       "    }\n",
       "</style>\n",
       "<table border=\"1\" class=\"dataframe\">\n",
       "  <thead>\n",
       "    <tr style=\"text-align: right;\">\n",
       "      <th>educ</th>\n",
       "      <th>8.0</th>\n",
       "      <th>9.0</th>\n",
       "      <th>10.0</th>\n",
       "      <th>11.0</th>\n",
       "      <th>12.0</th>\n",
       "      <th>13.0</th>\n",
       "      <th>14.0</th>\n",
       "      <th>15.0</th>\n",
       "      <th>16.0</th>\n",
       "      <th>17.0</th>\n",
       "      <th>18.0</th>\n",
       "    </tr>\n",
       "    <tr>\n",
       "      <th>y</th>\n",
       "      <th></th>\n",
       "      <th></th>\n",
       "      <th></th>\n",
       "      <th></th>\n",
       "      <th></th>\n",
       "      <th></th>\n",
       "      <th></th>\n",
       "      <th></th>\n",
       "      <th></th>\n",
       "      <th></th>\n",
       "      <th></th>\n",
       "    </tr>\n",
       "  </thead>\n",
       "  <tbody>\n",
       "    <tr>\n",
       "      <th>0</th>\n",
       "      <td>5</td>\n",
       "      <td>3</td>\n",
       "      <td>0</td>\n",
       "      <td>3</td>\n",
       "      <td>31</td>\n",
       "      <td>4</td>\n",
       "      <td>7</td>\n",
       "      <td>0</td>\n",
       "      <td>11</td>\n",
       "      <td>1</td>\n",
       "      <td>7</td>\n",
       "    </tr>\n",
       "    <tr>\n",
       "      <th>50</th>\n",
       "      <td>1</td>\n",
       "      <td>1</td>\n",
       "      <td>0</td>\n",
       "      <td>3</td>\n",
       "      <td>34</td>\n",
       "      <td>4</td>\n",
       "      <td>6</td>\n",
       "      <td>2</td>\n",
       "      <td>14</td>\n",
       "      <td>5</td>\n",
       "      <td>14</td>\n",
       "    </tr>\n",
       "    <tr>\n",
       "      <th>100</th>\n",
       "      <td>0</td>\n",
       "      <td>2</td>\n",
       "      <td>1</td>\n",
       "      <td>1</td>\n",
       "      <td>36</td>\n",
       "      <td>1</td>\n",
       "      <td>5</td>\n",
       "      <td>4</td>\n",
       "      <td>5</td>\n",
       "      <td>4</td>\n",
       "      <td>4</td>\n",
       "    </tr>\n",
       "  </tbody>\n",
       "</table>\n",
       "</div>"
      ],
      "text/plain": [
       "educ  8.0   9.0   10.0  11.0  12.0  13.0  14.0  15.0  16.0  17.0  18.0\n",
       "y                                                                     \n",
       "0        5     3     0     3    31     4     7     0    11     1     7\n",
       "50       1     1     0     3    34     4     6     2    14     5    14\n",
       "100      0     2     1     1    36     1     5     4     5     4     4"
      ]
     },
     "execution_count": 23,
     "metadata": {},
     "output_type": "execute_result"
    }
   ],
   "source": [
    "pd.crosstab(df['y'], df['educ'])"
   ]
  },
  {
   "cell_type": "code",
   "execution_count": 24,
   "metadata": {},
   "outputs": [
    {
     "name": "stdout",
     "output_type": "stream",
     "text": [
      "Optimization terminated successfully.\n",
      "         Current function value: 1.056826\n",
      "         Iterations 5\n"
     ]
    }
   ],
   "source": [
    "multmodel = st.MNLogit(y, X, )\n",
    "mm_fit = multmodel.fit()\n",
    "mm_fit.summary() ### сразу же можно проверить значимость коэффициентов"
   ]
  },
  {
   "cell_type": "code",
   "execution_count": 25,
   "metadata": {},
   "outputs": [
    {
     "data": {
      "text/html": [
       "<table class=\"simpletable\">\n",
       "<caption>MNLogit Regression Results</caption>\n",
       "<tr>\n",
       "  <th>Dep. Variable:</th>           <td>y</td>        <th>  No. Observations:  </th>  <td>   206</td> \n",
       "</tr>\n",
       "<tr>\n",
       "  <th>Model:</th>                <td>MNLogit</td>     <th>  Df Residuals:      </th>  <td>   198</td> \n",
       "</tr>\n",
       "<tr>\n",
       "  <th>Method:</th>                 <td>MLE</td>       <th>  Df Model:          </th>  <td>     6</td> \n",
       "</tr>\n",
       "<tr>\n",
       "  <th>Date:</th>            <td>Wed, 25 Sep 2019</td> <th>  Pseudo R-squ.:     </th>  <td>0.03320</td>\n",
       "</tr>\n",
       "<tr>\n",
       "  <th>Time:</th>                <td>20:58:09</td>     <th>  Log-Likelihood:    </th> <td> -217.71</td>\n",
       "</tr>\n",
       "<tr>\n",
       "  <th>converged:</th>             <td>True</td>       <th>  LL-Null:           </th> <td> -225.18</td>\n",
       "</tr>\n",
       "<tr>\n",
       "  <th>Covariance Type:</th>     <td>nonrobust</td>    <th>  LLR p-value:       </th>  <td>0.02064</td>\n",
       "</tr>\n",
       "</table>\n",
       "<table class=\"simpletable\">\n",
       "<tr>\n",
       "    <th>y=50</th>      <th>coef</th>     <th>std err</th>      <th>z</th>      <th>P>|z|</th>  <th>[0.025</th>    <th>0.975]</th>  \n",
       "</tr>\n",
       "<tr>\n",
       "  <th>choice</th>   <td>    0.7083</td> <td>    0.346</td> <td>    2.048</td> <td> 0.041</td> <td>    0.030</td> <td>    1.386</td>\n",
       "</tr>\n",
       "<tr>\n",
       "  <th>age</th>      <td>   -0.0052</td> <td>    0.005</td> <td>   -1.015</td> <td> 0.310</td> <td>   -0.015</td> <td>    0.005</td>\n",
       "</tr>\n",
       "<tr>\n",
       "  <th>wealth89</th> <td>-4.195e-05</td> <td>    0.001</td> <td>   -0.063</td> <td> 0.950</td> <td>   -0.001</td> <td>    0.001</td>\n",
       "</tr>\n",
       "<tr>\n",
       "  <th>prftshr</th>  <td>   -0.4098</td> <td>    0.474</td> <td>   -0.865</td> <td> 0.387</td> <td>   -1.338</td> <td>    0.519</td>\n",
       "</tr>\n",
       "<tr>\n",
       "    <th>y=100</th>     <th>coef</th>     <th>std err</th>      <th>z</th>      <th>P>|z|</th>  <th>[0.025</th>    <th>0.975]</th>  \n",
       "</tr>\n",
       "<tr>\n",
       "  <th>choice</th>   <td>    0.6419</td> <td>    0.370</td> <td>    1.733</td> <td> 0.083</td> <td>   -0.084</td> <td>    1.368</td>\n",
       "</tr>\n",
       "<tr>\n",
       "  <th>age</th>      <td>   -0.0128</td> <td>    0.006</td> <td>   -2.237</td> <td> 0.025</td> <td>   -0.024</td> <td>   -0.002</td>\n",
       "</tr>\n",
       "<tr>\n",
       "  <th>wealth89</th> <td>   -0.0002</td> <td>    0.001</td> <td>   -0.257</td> <td> 0.797</td> <td>   -0.002</td> <td>    0.001</td>\n",
       "</tr>\n",
       "<tr>\n",
       "  <th>prftshr</th>  <td>    0.9128</td> <td>    0.420</td> <td>    2.173</td> <td> 0.030</td> <td>    0.089</td> <td>    1.736</td>\n",
       "</tr>\n",
       "</table>"
      ],
      "text/plain": [
       "<class 'statsmodels.iolib.summary.Summary'>\n",
       "\"\"\"\n",
       "                          MNLogit Regression Results                          \n",
       "==============================================================================\n",
       "Dep. Variable:                      y   No. Observations:                  206\n",
       "Model:                        MNLogit   Df Residuals:                      198\n",
       "Method:                           MLE   Df Model:                            6\n",
       "Date:                Wed, 25 Sep 2019   Pseudo R-squ.:                 0.03320\n",
       "Time:                        20:58:09   Log-Likelihood:                -217.71\n",
       "converged:                       True   LL-Null:                       -225.18\n",
       "Covariance Type:            nonrobust   LLR p-value:                   0.02064\n",
       "==============================================================================\n",
       "      y=50       coef    std err          z      P>|z|      [0.025      0.975]\n",
       "------------------------------------------------------------------------------\n",
       "choice         0.7083      0.346      2.048      0.041       0.030       1.386\n",
       "age           -0.0052      0.005     -1.015      0.310      -0.015       0.005\n",
       "wealth89   -4.195e-05      0.001     -0.063      0.950      -0.001       0.001\n",
       "prftshr       -0.4098      0.474     -0.865      0.387      -1.338       0.519\n",
       "------------------------------------------------------------------------------\n",
       "     y=100       coef    std err          z      P>|z|      [0.025      0.975]\n",
       "------------------------------------------------------------------------------\n",
       "choice         0.6419      0.370      1.733      0.083      -0.084       1.368\n",
       "age           -0.0128      0.006     -2.237      0.025      -0.024      -0.002\n",
       "wealth89      -0.0002      0.001     -0.257      0.797      -0.002       0.001\n",
       "prftshr        0.9128      0.420      2.173      0.030       0.089       1.736\n",
       "==============================================================================\n",
       "\"\"\""
      ]
     },
     "execution_count": 25,
     "metadata": {},
     "output_type": "execute_result"
    }
   ],
   "source": [
    "mm_fit.summary() ### сразу же можно проверить значимость коэффициентов"
   ]
  },
  {
   "cell_type": "code",
   "execution_count": 26,
   "metadata": {},
   "outputs": [],
   "source": [
    "fitted_values = mm_fit.predict()"
   ]
  },
  {
   "cell_type": "code",
   "execution_count": 38,
   "metadata": {},
   "outputs": [],
   "source": [
    "data_m = sub[(sub.married == 1)]\n",
    "y_m = data_m['y']\n",
    "X_m = data_m[['choice', 'age', 'wealth89', 'prftshr']]"
   ]
  },
  {
   "cell_type": "code",
   "execution_count": 42,
   "metadata": {},
   "outputs": [
    {
     "name": "stdout",
     "output_type": "stream",
     "text": [
      "Optimization terminated successfully.\n",
      "         Current function value: 1.035791\n",
      "         Iterations 5\n"
     ]
    }
   ],
   "source": [
    "multmodel_m = st.MNLogit(y_m, X_m)\n",
    "mm_fit_m = multmodel_m.fit()\n",
    "mm_fit_m.summary()"
   ]
  },
  {
   "cell_type": "code",
   "execution_count": 43,
   "metadata": {},
   "outputs": [
    {
     "data": {
      "text/html": [
       "<table class=\"simpletable\">\n",
       "<caption>MNLogit Regression Results</caption>\n",
       "<tr>\n",
       "  <th>Dep. Variable:</th>           <td>y</td>        <th>  No. Observations:  </th>  <td>   154</td> \n",
       "</tr>\n",
       "<tr>\n",
       "  <th>Model:</th>                <td>MNLogit</td>     <th>  Df Residuals:      </th>  <td>   146</td> \n",
       "</tr>\n",
       "<tr>\n",
       "  <th>Method:</th>                 <td>MLE</td>       <th>  Df Model:          </th>  <td>     6</td> \n",
       "</tr>\n",
       "<tr>\n",
       "  <th>Date:</th>            <td>Wed, 25 Sep 2019</td> <th>  Pseudo R-squ.:     </th>  <td>0.04725</td>\n",
       "</tr>\n",
       "<tr>\n",
       "  <th>Time:</th>                <td>21:05:53</td>     <th>  Log-Likelihood:    </th> <td> -159.51</td>\n",
       "</tr>\n",
       "<tr>\n",
       "  <th>converged:</th>             <td>True</td>       <th>  LL-Null:           </th> <td> -167.42</td>\n",
       "</tr>\n",
       "<tr>\n",
       "  <th>Covariance Type:</th>     <td>nonrobust</td>    <th>  LLR p-value:       </th>  <td>0.01475</td>\n",
       "</tr>\n",
       "</table>\n",
       "<table class=\"simpletable\">\n",
       "<tr>\n",
       "    <th>y=50</th>      <th>coef</th>     <th>std err</th>      <th>z</th>      <th>P>|z|</th>  <th>[0.025</th>    <th>0.975]</th>  \n",
       "</tr>\n",
       "<tr>\n",
       "  <th>choice</th>   <td>    1.1098</td> <td>    0.414</td> <td>    2.680</td> <td> 0.007</td> <td>    0.298</td> <td>    1.922</td>\n",
       "</tr>\n",
       "<tr>\n",
       "  <th>age</th>      <td>   -0.0082</td> <td>    0.006</td> <td>   -1.298</td> <td> 0.194</td> <td>   -0.021</td> <td>    0.004</td>\n",
       "</tr>\n",
       "<tr>\n",
       "  <th>wealth89</th> <td>   -0.0003</td> <td>    0.001</td> <td>   -0.445</td> <td> 0.656</td> <td>   -0.002</td> <td>    0.001</td>\n",
       "</tr>\n",
       "<tr>\n",
       "  <th>prftshr</th>  <td>    0.0574</td> <td>    0.535</td> <td>    0.107</td> <td> 0.915</td> <td>   -0.991</td> <td>    1.106</td>\n",
       "</tr>\n",
       "<tr>\n",
       "    <th>y=100</th>     <th>coef</th>     <th>std err</th>      <th>z</th>      <th>P>|z|</th>  <th>[0.025</th>    <th>0.975]</th>  \n",
       "</tr>\n",
       "<tr>\n",
       "  <th>choice</th>   <td>    0.5338</td> <td>    0.439</td> <td>    1.216</td> <td> 0.224</td> <td>   -0.326</td> <td>    1.394</td>\n",
       "</tr>\n",
       "<tr>\n",
       "  <th>age</th>      <td>   -0.0138</td> <td>    0.007</td> <td>   -2.010</td> <td> 0.044</td> <td>   -0.027</td> <td>   -0.000</td>\n",
       "</tr>\n",
       "<tr>\n",
       "  <th>wealth89</th> <td>-4.126e-05</td> <td>    0.001</td> <td>   -0.051</td> <td> 0.959</td> <td>   -0.002</td> <td>    0.002</td>\n",
       "</tr>\n",
       "<tr>\n",
       "  <th>prftshr</th>  <td>    1.2179</td> <td>    0.502</td> <td>    2.428</td> <td> 0.015</td> <td>    0.235</td> <td>    2.201</td>\n",
       "</tr>\n",
       "</table>"
      ],
      "text/plain": [
       "<class 'statsmodels.iolib.summary.Summary'>\n",
       "\"\"\"\n",
       "                          MNLogit Regression Results                          \n",
       "==============================================================================\n",
       "Dep. Variable:                      y   No. Observations:                  154\n",
       "Model:                        MNLogit   Df Residuals:                      146\n",
       "Method:                           MLE   Df Model:                            6\n",
       "Date:                Wed, 25 Sep 2019   Pseudo R-squ.:                 0.04725\n",
       "Time:                        21:05:53   Log-Likelihood:                -159.51\n",
       "converged:                       True   LL-Null:                       -167.42\n",
       "Covariance Type:            nonrobust   LLR p-value:                   0.01475\n",
       "==============================================================================\n",
       "      y=50       coef    std err          z      P>|z|      [0.025      0.975]\n",
       "------------------------------------------------------------------------------\n",
       "choice         1.1098      0.414      2.680      0.007       0.298       1.922\n",
       "age           -0.0082      0.006     -1.298      0.194      -0.021       0.004\n",
       "wealth89      -0.0003      0.001     -0.445      0.656      -0.002       0.001\n",
       "prftshr        0.0574      0.535      0.107      0.915      -0.991       1.106\n",
       "------------------------------------------------------------------------------\n",
       "     y=100       coef    std err          z      P>|z|      [0.025      0.975]\n",
       "------------------------------------------------------------------------------\n",
       "choice         0.5338      0.439      1.216      0.224      -0.326       1.394\n",
       "age           -0.0138      0.007     -2.010      0.044      -0.027      -0.000\n",
       "wealth89   -4.126e-05      0.001     -0.051      0.959      -0.002       0.002\n",
       "prftshr        1.2179      0.502      2.428      0.015       0.235       2.201\n",
       "==============================================================================\n",
       "\"\"\""
      ]
     },
     "execution_count": 43,
     "metadata": {},
     "output_type": "execute_result"
    }
   ],
   "source": [
    "mm_fit_m.summary()"
   ]
  },
  {
   "cell_type": "code",
   "execution_count": 62,
   "metadata": {},
   "outputs": [
    {
     "data": {
      "text/plain": [
       "array([[-0.187,  0.197, -0.01 ],\n",
       "       [ 0.002, -0.   , -0.002],\n",
       "       [ 0.   , -0.   ,  0.   ],\n",
       "       [-0.114, -0.107,  0.221]])"
      ]
     },
     "execution_count": 62,
     "metadata": {},
     "output_type": "execute_result"
    }
   ],
   "source": [
    "margeff = mm_fit_m.get_margeff()\n",
    "np.round(margeff.margeff, 3)"
   ]
  },
  {
   "cell_type": "code",
   "execution_count": 100,
   "metadata": {},
   "outputs": [],
   "source": [
    "y50_data = sub[sub['y'] == 50][sub.columns.difference(['y', 'married'])]\n",
    "y100_data = sub[sub['y'] == 100][sub.columns.difference(['y', 'married'])]\n",
    "#np.exp(mm_fit.params[0]*y100_data) # кажется, это придется считать вручную :(\n",
    "#np.exp(mm_fit.params[0]*y100_data) # не уверена, что так, но пусть пока будет"
   ]
  },
  {
   "cell_type": "markdown",
   "metadata": {},
   "source": [
    "Стоит признать, что с предельными эффектами в python беда :("
   ]
  },
  {
   "cell_type": "code",
   "execution_count": 101,
   "metadata": {},
   "outputs": [
    {
     "data": {
      "text/html": [
       "<div>\n",
       "<style scoped>\n",
       "    .dataframe tbody tr th:only-of-type {\n",
       "        vertical-align: middle;\n",
       "    }\n",
       "\n",
       "    .dataframe tbody tr th {\n",
       "        vertical-align: top;\n",
       "    }\n",
       "\n",
       "    .dataframe thead th {\n",
       "        text-align: right;\n",
       "    }\n",
       "</style>\n",
       "<table border=\"1\" class=\"dataframe\">\n",
       "  <thead>\n",
       "    <tr style=\"text-align: right;\">\n",
       "      <th></th>\n",
       "      <th>0</th>\n",
       "      <th>1</th>\n",
       "    </tr>\n",
       "  </thead>\n",
       "  <tbody>\n",
       "    <tr>\n",
       "      <th>choice</th>\n",
       "      <td>1.109841</td>\n",
       "      <td>0.533820</td>\n",
       "    </tr>\n",
       "    <tr>\n",
       "      <th>age</th>\n",
       "      <td>-0.008244</td>\n",
       "      <td>-0.013767</td>\n",
       "    </tr>\n",
       "    <tr>\n",
       "      <th>wealth89</th>\n",
       "      <td>-0.000337</td>\n",
       "      <td>-0.000041</td>\n",
       "    </tr>\n",
       "    <tr>\n",
       "      <th>prftshr</th>\n",
       "      <td>0.057405</td>\n",
       "      <td>1.217890</td>\n",
       "    </tr>\n",
       "  </tbody>\n",
       "</table>\n",
       "</div>"
      ],
      "text/plain": [
       "                 0         1\n",
       "choice    1.109841  0.533820\n",
       "age      -0.008244 -0.013767\n",
       "wealth89 -0.000337 -0.000041\n",
       "prftshr   0.057405  1.217890"
      ]
     },
     "execution_count": 101,
     "metadata": {},
     "output_type": "execute_result"
    }
   ],
   "source": [
    "mm_fit_m.params ### покажет коэффициенты для каждой из альтернатив"
   ]
  },
  {
   "cell_type": "code",
   "execution_count": 110,
   "metadata": {},
   "outputs": [],
   "source": [
    "data_nlsy = pd.read_stata('data/tradrole.dta')\n",
    "\n",
    "plt.style.use('ggplot')"
   ]
  },
  {
   "cell_type": "code",
   "execution_count": 113,
   "metadata": {},
   "outputs": [
    {
     "data": {
      "image/png": "[encoded data removed]",
      "text/plain": [
       "<Figure size 432x288 with 1 Axes>"
      ]
     },
     "metadata": {},
     "output_type": "display_data"
    }
   ],
   "source": [
    "plt.hist(data_nlsy['tradrole'])\n",
    "plt.title('')\n",
    "plt.xlabel('Ответы респонденток')\n",
    "plt.show('Вот такие дела, джентельмены :)')"
   ]
  },
  {
   "cell_type": "code",
   "execution_count": 114,
   "metadata": {},
   "outputs": [],
   "source": [
    "### непонятно"
   ]
  },
  {
   "cell_type": "code",
   "execution_count": null,
   "metadata": {},
   "outputs": [],
   "source": []
  }
 ],
 "metadata": {
  "kernelspec": {
   "display_name": "Python 3",
   "language": "python",
   "name": "python3"
  },
  "language_info": {
   "codemirror_mode": {
    "name": "ipython",
    "version": 3
   },
   "file_extension": ".py",
   "mimetype": "text/x-python",
   "name": "python",
   "nbconvert_exporter": "python",
   "pygments_lexer": "ipython3",
   "version": "3.7.1"
  }
 },
 "nbformat": 4,
 "nbformat_minor": 4
}
