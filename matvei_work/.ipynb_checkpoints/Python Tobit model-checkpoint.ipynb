{
 "cells": [
  {
   "cell_type": "code",
   "execution_count": 2,
   "metadata": {},
   "outputs": [],
   "source": [
    "import pandas as pd\n",
    "import tobin as tb\n",
    "import heckman as hk"
   ]
  },
  {
   "cell_type": "code",
   "execution_count": 3,
   "metadata": {},
   "outputs": [
    {
     "name": "stdout",
     "output_type": "stream",
     "text": [
      "Index(['Unnamed: 0', 'Unnamed: 0.1', 'read', 'math', 'prog', 'apt', 'top'], dtype='object')\n"
     ]
    }
   ],
   "source": [
    "data = pd.read_csv('tobit.csv', index_col = 'id')\n",
    "print(data.columns)\n",
    "cens = (data.top < 1).astype('int')\n",
    "Y = data.apt\n",
    "data = data.drop(columns = ['Unnamed: 0', 'Unnamed: 0.1', 'top', 'apt', 'prog'])\n"
   ]
  },
  {
   "cell_type": "code",
   "execution_count": 4,
   "metadata": {},
   "outputs": [
    {
     "name": "stdout",
     "output_type": "stream",
     "text": [
      "intercept : 159.0037\n",
      "read : 2.8896\n",
      "math : 6.3444\n"
     ]
    }
   ],
   "source": [
    "tobit = tb.TobitModel()\n",
    "tobit_fitted = tobit.fit(data, Y, cens)"
   ]
  },
  {
   "cell_type": "code",
   "execution_count": 4,
   "metadata": {},
   "outputs": [
    {
     "name": "stdout",
     "output_type": "stream",
     "text": [
      " 5.345\n"
     ]
    }
   ],
   "source": []
  },
  {
   "cell_type": "code",
   "execution_count": null,
   "metadata": {},
   "outputs": [],
   "source": []
  }
 ],
 "metadata": {
  "kernelspec": {
   "display_name": "Python 3",
   "language": "python",
   "name": "python3"
  },
  "language_info": {
   "codemirror_mode": {
    "name": "ipython",
    "version": 3
   },
   "file_extension": ".py",
   "mimetype": "text/x-python",
   "name": "python",
   "nbconvert_exporter": "python",
   "pygments_lexer": "ipython3",
   "version": "3.7.4"
  }
 },
 "nbformat": 4,
 "nbformat_minor": 2
}
